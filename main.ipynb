{
 "cells": [
  {
   "cell_type": "markdown",
   "metadata": {},
   "source": [
    "# Mostra colunas disponiveis do .csv"
   ]
  },
  {
   "cell_type": "code",
   "execution_count": 27,
   "metadata": {},
   "outputs": [
    {
     "data": {
      "text/plain": [
       "'CONTADOR,CODINST,ORIGEM,TIPOBITO,DTOBITO,HORAOBITO,NUMSUS,NATURAL,CODMUNNATU,DTNASC,IDADE,SEXO,RACACOR,ESTCIV,ESC,ESC2010,SERIESCFAL,OCUP,CODMUNRES,LOCOCOR,CODESTAB,CODMUNOCOR,IDADEMAE,ESCMAE,ESCMAE2010,SERIESCMAE,OCUPMAE,QTDFILVIVO,QTDFILMORT,GRAVIDEZ,SEMAGESTAC,GESTACAO,PARTO,OBITOPARTO,PESO,TPMORTEOCO,OBITOGRAV,OBITOPUERP,ASSISTMED,EXAME,CIRURGIA,NECROPSIA,LINHAA,LINHAB,LINHAC,LINHAD,LINHAII,CAUSABAS,CB_PRE,COMUNSVOIM,DTATESTADO,CIRCOBITO,ACIDTRAB,FONTE,NUMEROLOTE,DTINVESTIG,DTCADASTRO,ATESTANTE,STCODIFICA,CODIFICADO,VERSAOSIST,VERSAOSCB,FONTEINV,DTRECEBIM,ATESTADO,DTRECORIGA,OPOR_DO,CAUSAMAT,ESCMAEAGR1,ESCFALAGR1,STDOEPIDEM,STDONOVA,DIFDATA,NUDIASOBCO,DTCADINV,TPOBITOCOR,DTCONINV,FONTES,TPRESGINFO,TPNIVELINV,DTCADINF,MORTEPARTO,DTCONCASO,ALTCAUSA,CAUSABAS_O,TPPOS,TP_ALTERA,CB_ALT'"
      ]
     },
     "execution_count": 27,
     "metadata": {},
     "output_type": "execute_result"
    }
   ],
   "source": [
    "import pandas as pd\n",
    "\n",
    "data = pd.read_csv(\"do2021opendata.csv\", sep=\";\", low_memory=False)\n",
    "\n",
    "\",\".join(data.columns.tolist())"
   ]
  },
  {
   "cell_type": "markdown",
   "metadata": {},
   "source": [
    "# Todos os casos de morte por covid em Joinville durante 2021"
   ]
  },
  {
   "cell_type": "code",
   "execution_count": 28,
   "metadata": {},
   "outputs": [],
   "source": [
    "COD_MUN_JLLE = 420910\n",
    "COD_COVID_1 = \"B342\"\n",
    "\n",
    "jlle_data = data[data[\"CODMUNOCOR\"] == COD_MUN_JLLE]\n",
    "jlle_only_covid = jlle_data[jlle_data[\"CAUSABAS_O\"] == COD_COVID_1]"
   ]
  },
  {
   "cell_type": "markdown",
   "metadata": {},
   "source": [
    "# Construção da planilha de dados covid 2021"
   ]
  },
  {
   "cell_type": "code",
   "execution_count": 42,
   "metadata": {},
   "outputs": [],
   "source": [
    "import csv\n",
    "import numpy as np\n",
    "\n",
    "def format_date(raw_date: str) -> str:\n",
    "    date_length = len(raw_date)\n",
    "\n",
    "    if date_length == 7:\n",
    "        return \"0\" + raw_date[0:1] + \"/\" + raw_date[1:3] + \"/\" + raw_date[3:7]\n",
    "    else:\n",
    "        return raw_date[0:2] + \"/\" + raw_date[2:4] + \"/\" + raw_date[4:8]\n",
    "\n",
    "def format_schooling(code: int) -> str:\n",
    "    if code == 0:\n",
    "        return \"Sem escolaridade\"\n",
    "    elif code == 1:\n",
    "        return \"Ensino Fundamental (Anos Iniciais)\"\n",
    "    elif code == 2:\n",
    "        return \"Ensino Fundamental (Anos Finais)\"\n",
    "    elif code == 3:\n",
    "        return \"Ensino Médio\"\n",
    "    elif code == 4:\n",
    "        return \"Superior incompleto\"\n",
    "    elif code == 5:\n",
    "        return \"Superior completo\"\n",
    "    elif code == 9:\n",
    "        return \"Não informado\"\n",
    "\n",
    "def format_age(code: str) -> str:\n",
    "    first_digit = code[0]\n",
    "    second_digits = code [1:3]\n",
    "\n",
    "    # minutos\n",
    "    if first_digit == \"1\":\n",
    "        return \"0\"\n",
    "    # horas\n",
    "    elif first_digit == \"2\":\n",
    "        return \"0\"\n",
    "    # meses\n",
    "    elif first_digit == \"3\":\n",
    "        return \"0\"\n",
    "    # anos\n",
    "    elif first_digit == \"4\":\n",
    "        return second_digits\n",
    "    # mais de 100 anos\n",
    "    elif first_digit == \"5\":\n",
    "        return \"1\" + second_digits\n",
    "    else:\n",
    "        return \"Não informado\"\n",
    "\n",
    "def format_breed_or_color(code: int) -> str:\n",
    "    if code == 1:\n",
    "        return \"Branca\"\n",
    "    elif code == 2:\n",
    "        return \"Preta\"\n",
    "    elif code == 3:\n",
    "        return \"Amarela\"\n",
    "    elif code == 4:\n",
    "        return \"Parda\"\n",
    "    elif code == 5:\n",
    "        return \"Indígena\"\n",
    "\n",
    "def format_sex(code: int) -> str:\n",
    "    if code == 1:\n",
    "        return \"Masculino\"\n",
    "    elif code == 2:\n",
    "        return \"Feminino\"\n",
    "    else:\n",
    "        return \"Não informado\"\n",
    "\n",
    "def format_civil_status(code) -> str:\n",
    "    if np.isnan(code):\n",
    "        return \"Não informado\"\n",
    "\n",
    "    if code == 1:\n",
    "        return \"Solteiro\"\n",
    "    elif code == 2:\n",
    "        return \"Casado\"\n",
    "    elif code == 3:\n",
    "        return \"Viúvo\"\n",
    "    elif code == 4:\n",
    "        return \"Separado judicialmente/divorciado\"\n",
    "    elif code == 5:\n",
    "        return \"União estável\"\n",
    "    else:\n",
    "        return \"Não informado\"\n",
    "\n",
    "with open('./covid_data_joinville_2021.csv', 'w+') as f:\n",
    "    fieldnames = ['DATAOBITO', 'MUNICIPIO', 'DESCRICAO', 'ESCOLARIDADE', 'IDADE_ANOS', 'RACA_COR', 'SEXO', 'SITUACAO_CONJUGAL']\n",
    "    dict_writer = csv.DictWriter(f, fieldnames)\n",
    "    dict_writer.writeheader()\n",
    "\n",
    "    for index, row in jlle_only_covid.iterrows():\n",
    "        dt_obito = format_date(str(row['DTOBITO']))\n",
    "        schooling = format_schooling(row['ESC2010'])\n",
    "        age = format_age(str(row['IDADE']))\n",
    "        breed_or_color = format_breed_or_color(int(row['RACACOR']))\n",
    "        sex = format_sex(int(row['SEXO']))\n",
    "        civil_status = format_civil_status(row['ESTCIV'])\n",
    "        \n",
    "        dict_writer.writerow({\n",
    "            \"DATAOBITO\": dt_obito,\n",
    "            \"MUNICIPIO\": \"JOINVILLE\",\n",
    "            \"DESCRICAO\": \"Infecção por coronavírus de localização não especificada\",\n",
    "            \"ESCOLARIDADE\": schooling,\n",
    "            \"IDADE_ANOS\": age,\n",
    "            \"RACA_COR\": breed_or_color,\n",
    "            \"SEXO\": sex,\n",
    "            \"SITUACAO_CONJUGAL\": civil_status\n",
    "        })"
   ]
  }
 ],
 "metadata": {
  "interpreter": {
   "hash": "15e0688035b5bfd9d2482e320143ba6cf49d33952d907f1ef8efcc5c63857ae8"
  },
  "kernelspec": {
   "display_name": "Python 3.10.0 64-bit ('default': pyenv)",
   "name": "python3"
  },
  "language_info": {
   "codemirror_mode": {
    "name": "ipython",
    "version": 3
   },
   "file_extension": ".py",
   "mimetype": "text/x-python",
   "name": "python",
   "nbconvert_exporter": "python",
   "pygments_lexer": "ipython3",
   "version": "3.10.0"
  },
  "orig_nbformat": 4
 },
 "nbformat": 4,
 "nbformat_minor": 2
}
